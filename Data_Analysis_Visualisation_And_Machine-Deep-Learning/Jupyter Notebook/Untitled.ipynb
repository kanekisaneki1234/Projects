{
 "cells": [
  {
   "cell_type": "code",
   "execution_count": 1,
   "id": "df4817e2-279d-4307-a653-ba67a18a6caf",
   "metadata": {},
   "outputs": [],
   "source": [
    "import numpy as np\n",
    "import sys"
   ]
  },
  {
   "cell_type": "code",
   "execution_count": 2,
   "id": "7c81affa-8fca-4d01-96db-744284b23e97",
   "metadata": {},
   "outputs": [],
   "source": [
    "a = np.array([1,2.5,3.6,4.2])"
   ]
  },
  {
   "cell_type": "code",
   "execution_count": 3,
   "id": "d2e5d8c1-7e44-4051-bea1-22c48dad59c0",
   "metadata": {},
   "outputs": [
    {
     "data": {
      "text/plain": [
       "array([1. , 2.5, 3.6, 4.2])"
      ]
     },
     "execution_count": 3,
     "metadata": {},
     "output_type": "execute_result"
    }
   ],
   "source": [
    "a[:]"
   ]
  },
  {
   "cell_type": "code",
   "execution_count": 4,
   "id": "d048ef00-0a1d-420f-900b-bde0bc864430",
   "metadata": {},
   "outputs": [],
   "source": [
    "a = a.astype(\"int32\")"
   ]
  },
  {
   "cell_type": "code",
   "execution_count": 5,
   "id": "fd2f9694-c906-406a-9655-f0ef7a27cd2e",
   "metadata": {},
   "outputs": [
    {
     "data": {
      "text/plain": [
       "array([1, 2, 3, 4], dtype=int32)"
      ]
     },
     "execution_count": 5,
     "metadata": {},
     "output_type": "execute_result"
    }
   ],
   "source": [
    "a"
   ]
  },
  {
   "cell_type": "code",
   "execution_count": 6,
   "id": "44871d1c-1a3d-4c36-8445-5e66f0b2bd49",
   "metadata": {},
   "outputs": [],
   "source": [
    "b = np.array(['we','qw','er'])"
   ]
  },
  {
   "cell_type": "code",
   "execution_count": 7,
   "id": "636b3dfb-472a-4545-8a5c-1b93aa90239f",
   "metadata": {},
   "outputs": [
    {
     "data": {
      "text/plain": [
       "dtype('<U2')"
      ]
     },
     "execution_count": 7,
     "metadata": {},
     "output_type": "execute_result"
    }
   ],
   "source": [
    "b.dtype"
   ]
  },
  {
   "cell_type": "code",
   "execution_count": 8,
   "id": "050609fc-d949-40de-999d-040e36abcb9e",
   "metadata": {},
   "outputs": [],
   "source": [
    "d = np.array([{'a': 1}, sys])"
   ]
  },
  {
   "cell_type": "code",
   "execution_count": 9,
   "id": "6fd6b042-a301-4ac7-9690-b614b476b6f1",
   "metadata": {},
   "outputs": [
    {
     "data": {
      "text/plain": [
       "array([{'a': 1}, <module 'sys' (built-in)>], dtype=object)"
      ]
     },
     "execution_count": 9,
     "metadata": {},
     "output_type": "execute_result"
    }
   ],
   "source": [
    "d"
   ]
  },
  {
   "cell_type": "code",
   "execution_count": 10,
   "id": "86ec1dad-8427-44fe-931a-9dd0508d18f5",
   "metadata": {},
   "outputs": [],
   "source": [
    "c = np.array([[[1, 2, 3], [4, 5, 6]], [[7, 8, 9], [0,0,0]]])\n"
   ]
  },
  {
   "cell_type": "code",
   "execution_count": 11,
   "id": "d6b33b5c-fa5c-4fea-a431-95c585aec543",
   "metadata": {},
   "outputs": [
    {
     "data": {
      "text/plain": [
       "array([[[1, 2, 3],\n",
       "        [4, 5, 6]],\n",
       "\n",
       "       [[7, 8, 9],\n",
       "        [0, 0, 0]]])"
      ]
     },
     "execution_count": 11,
     "metadata": {},
     "output_type": "execute_result"
    }
   ],
   "source": [
    "c"
   ]
  },
  {
   "cell_type": "code",
   "execution_count": 12,
   "id": "115cced5-e1ea-4282-bae1-e04792a69bf9",
   "metadata": {},
   "outputs": [
    {
     "data": {
      "text/plain": [
       "3"
      ]
     },
     "execution_count": 12,
     "metadata": {},
     "output_type": "execute_result"
    }
   ],
   "source": [
    "c.ndim"
   ]
  },
  {
   "cell_type": "code",
   "execution_count": 78,
   "id": "732a6778-8d28-4595-aff5-b402e0f3df03",
   "metadata": {},
   "outputs": [],
   "source": [
    "a = np.array([[1,2,3],\n",
    "             [4,5,6],\n",
    "             [7,8,9]])\n",
    "b = np.array([[1,2,3],\n",
    "             [4,5,6],\n",
    "             [7,8,9]])"
   ]
  },
  {
   "cell_type": "code",
   "execution_count": 21,
   "id": "a25d97bf-5e01-43fd-87cd-2e16286eb8c6",
   "metadata": {},
   "outputs": [
    {
     "data": {
      "text/plain": [
       "array([[ 30,  36,  42],\n",
       "       [ 66,  81,  96],\n",
       "       [102, 126, 150]])"
      ]
     },
     "execution_count": 21,
     "metadata": {},
     "output_type": "execute_result"
    }
   ],
   "source": [
    "a.dot(b)"
   ]
  },
  {
   "cell_type": "code",
   "execution_count": 22,
   "id": "0258f5f6-8e93-4aa4-9936-661af6c48c89",
   "metadata": {},
   "outputs": [
    {
     "data": {
      "text/plain": [
       "array([[ 30,  36,  42],\n",
       "       [ 66,  81,  96],\n",
       "       [102, 126, 150]])"
      ]
     },
     "execution_count": 22,
     "metadata": {},
     "output_type": "execute_result"
    }
   ],
   "source": [
    "a @ b"
   ]
  },
  {
   "cell_type": "code",
   "execution_count": 25,
   "id": "faadd912-2589-4b5b-af41-93e34788d1d7",
   "metadata": {},
   "outputs": [
    {
     "data": {
      "text/plain": [
       "array([[1, 4, 7],\n",
       "       [2, 5, 8],\n",
       "       [3, 6, 9]])"
      ]
     },
     "execution_count": 25,
     "metadata": {},
     "output_type": "execute_result"
    }
   ],
   "source": [
    "a.T"
   ]
  },
  {
   "cell_type": "code",
   "execution_count": 26,
   "id": "26d65445-d51a-4e76-a1ac-7987d96c5771",
   "metadata": {},
   "outputs": [],
   "source": [
    "l = list(range(1000))\n",
    "a = np.arange(1000)"
   ]
  },
  {
   "cell_type": "code",
   "execution_count": 27,
   "id": "41c55ea1-fda2-4a8d-8859-b4f81b76de4b",
   "metadata": {},
   "outputs": [
    {
     "name": "stdout",
     "output_type": "stream",
     "text": [
      "CPU times: user 640 µs, sys: 808 µs, total: 1.45 ms\n",
      "Wall time: 1.17 ms\n"
     ]
    },
    {
     "data": {
      "text/plain": [
       "332833500"
      ]
     },
     "execution_count": 27,
     "metadata": {},
     "output_type": "execute_result"
    }
   ],
   "source": [
    "%time np.sum(a**2)"
   ]
  },
  {
   "cell_type": "code",
   "execution_count": 28,
   "id": "4129db06-aced-4745-aa15-327f0d99e0f6",
   "metadata": {},
   "outputs": [
    {
     "name": "stdout",
     "output_type": "stream",
     "text": [
      "CPU times: user 533 µs, sys: 205 µs, total: 738 µs\n",
      "Wall time: 745 µs\n"
     ]
    },
    {
     "data": {
      "text/plain": [
       "332833500"
      ]
     },
     "execution_count": 28,
     "metadata": {},
     "output_type": "execute_result"
    }
   ],
   "source": [
    "%time sum([x ** 2 for x in l])"
   ]
  },
  {
   "cell_type": "code",
   "execution_count": 29,
   "id": "d1e4081d-4396-44d8-a350-8d4eaeecf8c3",
   "metadata": {},
   "outputs": [
    {
     "name": "stdout",
     "output_type": "stream",
     "text": [
      "Time taken by Lists : 0.07529091835021973 seconds\n",
      "Time taken by NumPy Arrays : 0.0031239986419677734 seconds\n"
     ]
    }
   ],
   "source": [
    "# importing required packages\n",
    "import numpy\n",
    "import time\n",
    "\n",
    "# size of arrays and lists\n",
    "size = 1000000\n",
    "\n",
    "# declaring lists\n",
    "list1 = range(size)\n",
    "list2 = range(size)\n",
    "\n",
    "# declaring arrays\n",
    "array1 = numpy.arange(size)\n",
    "array2 = numpy.arange(size)\n",
    "\n",
    "# list\n",
    "initialTime = time.time()\n",
    "resultantList = [(a * b) for a, b in zip(list1, list2)]\n",
    "\n",
    "# calculating execution time\n",
    "print(\"Time taken by Lists :\",\n",
    "\t(time.time() - initialTime),\n",
    "\t\"seconds\")\n",
    "\n",
    "# NumPy array\n",
    "initialTime = time.time()\n",
    "resultantArray = array1 * array2\n",
    "\n",
    "# calculating execution time\n",
    "print(\"Time taken by NumPy Arrays :\",\n",
    "\t(time.time() - initialTime),\n",
    "\t\"seconds\")\n"
   ]
  },
  {
   "cell_type": "markdown",
   "id": "8afa33d1-3c08-46cf-868a-d7c09c83ffed",
   "metadata": {},
   "source": [
    "# Some numpy functions"
   ]
  },
  {
   "cell_type": "code",
   "execution_count": 30,
   "id": "6eea9649-fca9-4e3c-b308-fcb82bb91639",
   "metadata": {},
   "outputs": [
    {
     "data": {
      "text/plain": [
       "<module 'numpy.random' from '/Library/Frameworks/Python.framework/Versions/3.10/lib/python3.10/site-packages/numpy/random/__init__.py'>"
      ]
     },
     "execution_count": 30,
     "metadata": {},
     "output_type": "execute_result"
    }
   ],
   "source": [
    "np.random"
   ]
  },
  {
   "cell_type": "code",
   "execution_count": 31,
   "id": "36d6a6ec-6a91-47a1-a561-b5cde64cfcdb",
   "metadata": {},
   "outputs": [],
   "source": [
    "data = [1, 2, 3, 4, 5]\n",
    "random_sample = np.random.choice(data, size=3, replace=False)"
   ]
  },
  {
   "cell_type": "code",
   "execution_count": 32,
   "id": "d8a363c8-faf9-4976-9c0a-a5814de004ec",
   "metadata": {},
   "outputs": [
    {
     "data": {
      "text/plain": [
       "array([3, 2, 4])"
      ]
     },
     "execution_count": 32,
     "metadata": {},
     "output_type": "execute_result"
    }
   ],
   "source": [
    "random_sample"
   ]
  },
  {
   "cell_type": "code",
   "execution_count": 33,
   "id": "d6f7b182-e6b9-4bf8-94fd-9bced926e296",
   "metadata": {},
   "outputs": [],
   "source": [
    "random_uniform = np.random.uniform(low=0, high=1, size=10)"
   ]
  },
  {
   "cell_type": "code",
   "execution_count": 34,
   "id": "38182719-22f3-4bbf-ba7e-19bb321e9d20",
   "metadata": {},
   "outputs": [
    {
     "data": {
      "text/plain": [
       "array([0.41784014, 0.26597717, 0.49504622, 0.82415148, 0.63793726,\n",
       "       0.92903321, 0.21776276, 0.17204667, 0.29786536, 0.4375435 ])"
      ]
     },
     "execution_count": 34,
     "metadata": {},
     "output_type": "execute_result"
    }
   ],
   "source": [
    "random_uniform"
   ]
  },
  {
   "cell_type": "code",
   "execution_count": 35,
   "id": "af46d7b0-a4fe-4182-bfbc-46210dcb72a3",
   "metadata": {},
   "outputs": [
    {
     "data": {
      "text/plain": [
       "array([-2.22090016,  2.0401398 ])"
      ]
     },
     "execution_count": 35,
     "metadata": {},
     "output_type": "execute_result"
    }
   ],
   "source": [
    "np.random.normal(size=2)"
   ]
  },
  {
   "cell_type": "code",
   "execution_count": 36,
   "id": "111836b0-a62a-4c7d-a994-a89db264641a",
   "metadata": {},
   "outputs": [
    {
     "data": {
      "text/plain": [
       "array([-1.42834938,  0.11549893, -0.62305235,  1.54263443,  0.59790933,\n",
       "        1.06928576, -1.46894017, -0.63793334,  0.44452963, -0.38891608])"
      ]
     },
     "execution_count": 36,
     "metadata": {},
     "output_type": "execute_result"
    }
   ],
   "source": [
    "random_normal = np.random.normal(loc=0, scale=1, size=10)\n",
    "random_normal"
   ]
  },
  {
   "cell_type": "code",
   "execution_count": 37,
   "id": "d7e0567a-cd02-408b-b0a8-5427df33ed00",
   "metadata": {},
   "outputs": [
    {
     "data": {
      "text/plain": [
       "array([[0.54776779, 0.91185205, 0.23990944],\n",
       "       [0.22112726, 0.70297637, 0.82314359],\n",
       "       [0.82816663, 0.09022612, 0.58705439]])"
      ]
     },
     "execution_count": 37,
     "metadata": {},
     "output_type": "execute_result"
    }
   ],
   "source": [
    "random_matrix = np.random.random((3, 3))  # Generates a 3x3 matrix of random values\n",
    "random_matrix"
   ]
  },
  {
   "cell_type": "code",
   "execution_count": 48,
   "id": "0a0d888e-fe81-4819-95ba-f1ad248eb0ac",
   "metadata": {},
   "outputs": [
    {
     "data": {
      "text/plain": [
       "array([[0.69690023, 0.16549259, 0.11508857, 0.11857432],\n",
       "       [0.3322908 , 0.47224746, 0.36481771, 0.02353038]])"
      ]
     },
     "execution_count": 48,
     "metadata": {},
     "output_type": "execute_result"
    }
   ],
   "source": [
    "np.random.rand(2, 4)"
   ]
  },
  {
   "cell_type": "code",
   "execution_count": 53,
   "id": "c96ac7f2-22d9-4a64-b446-c905849c9a93",
   "metadata": {},
   "outputs": [
    {
     "name": "stdout",
     "output_type": "stream",
     "text": [
      "[[5.0146659  8.54735365 8.20465445 8.75921253]\n",
      " [8.96533327 8.33245656 8.50294952 5.27967279]]\n"
     ]
    }
   ],
   "source": [
    "import numpy as np\n",
    "\n",
    "a = 5  # Lower bound of the interval\n",
    "b = 10  # Upper bound of the interval\n",
    "shape = (2, 4)  # Shape of the output array\n",
    "\n",
    "random_numbers = a + (b - a) * np.random.rand(*shape)\n",
    "print(random_numbers)"
   ]
  },
  {
   "cell_type": "code",
   "execution_count": 54,
   "id": "354a8439-1d47-4082-9532-9c1e07149d29",
   "metadata": {},
   "outputs": [
    {
     "data": {
      "text/plain": [
       "0.014665899999999787"
      ]
     },
     "execution_count": 54,
     "metadata": {},
     "output_type": "execute_result"
    }
   ],
   "source": [
    "5.0146659 - 5"
   ]
  },
  {
   "cell_type": "code",
   "execution_count": 55,
   "id": "077b56f4-597c-4df9-a03d-683808daef11",
   "metadata": {},
   "outputs": [
    {
     "data": {
      "text/plain": [
       "0.0029331799999999576"
      ]
     },
     "execution_count": 55,
     "metadata": {},
     "output_type": "execute_result"
    }
   ],
   "source": [
    "0.014665899999999787/5"
   ]
  },
  {
   "cell_type": "code",
   "execution_count": 58,
   "id": "d3c082b6-df5a-46f6-91bf-5e0a3a0c1723",
   "metadata": {},
   "outputs": [
    {
     "name": "stdout",
     "output_type": "stream",
     "text": [
      "[[8 9 3]\n",
      " [7 7 7]\n",
      " [1 1 8]]\n"
     ]
    }
   ],
   "source": [
    "import numpy as np\n",
    "\n",
    "low = 0    # Lower bound of the range (inclusive)\n",
    "high = 10  # Upper bound of the range (exclusive)\n",
    "size = (3, 3)  # Shape of the matrix\n",
    "\n",
    "random_matrix = np.random.randint(low, high, size)\n",
    "print(random_matrix)"
   ]
  },
  {
   "cell_type": "code",
   "execution_count": 59,
   "id": "5298089e-b821-46be-a24f-8a2a71fc916e",
   "metadata": {},
   "outputs": [
    {
     "data": {
      "text/plain": [
       "array([0, 1, 2, 3])"
      ]
     },
     "execution_count": 59,
     "metadata": {},
     "output_type": "execute_result"
    }
   ],
   "source": [
    "np.arange(4)"
   ]
  },
  {
   "cell_type": "code",
   "execution_count": 62,
   "id": "e77170af-d9f6-4ffc-99a2-38ec5eae383b",
   "metadata": {},
   "outputs": [
    {
     "data": {
      "text/plain": [
       "array([0, 1, 2, 3, 4, 5, 6, 7, 8, 9])"
      ]
     },
     "execution_count": 62,
     "metadata": {},
     "output_type": "execute_result"
    }
   ],
   "source": [
    "np.arange(0,10)"
   ]
  },
  {
   "cell_type": "code",
   "execution_count": 65,
   "id": "a38604d0-b1cc-46e3-a868-ad7f571ca401",
   "metadata": {},
   "outputs": [
    {
     "data": {
      "text/plain": [
       "array([0. , 0.1, 0.2, 0.3, 0.4, 0.5, 0.6, 0.7, 0.8, 0.9])"
      ]
     },
     "execution_count": 65,
     "metadata": {},
     "output_type": "execute_result"
    }
   ],
   "source": [
    "np.arange(0, 1, .1)"
   ]
  },
  {
   "cell_type": "code",
   "execution_count": 69,
   "id": "5ba88abf-9935-41b5-a0f4-b026ba1fa91f",
   "metadata": {},
   "outputs": [
    {
     "data": {
      "text/plain": [
       "array([[0, 1, 2, 3, 4],\n",
       "       [5, 6, 7, 8, 9]])"
      ]
     },
     "execution_count": 69,
     "metadata": {},
     "output_type": "execute_result"
    }
   ],
   "source": [
    "np.arange(10).reshape (2, 5) #must be even number so that it can be easily split"
   ]
  },
  {
   "cell_type": "code",
   "execution_count": 75,
   "id": "83f3a3c5-73ff-4f33-956d-cc66ac2696db",
   "metadata": {},
   "outputs": [
    {
     "data": {
      "text/plain": [
       "array([ 0,  2,  4,  6,  8, 10], dtype=int8)"
      ]
     },
     "execution_count": 75,
     "metadata": {},
     "output_type": "execute_result"
    }
   ],
   "source": [
    "np.linspace(0, 10, 6).astype(\"int8\")"
   ]
  },
  {
   "cell_type": "code",
   "execution_count": 91,
   "id": "26345f49-6a2d-4c54-96a0-881e5b03c227",
   "metadata": {},
   "outputs": [
    {
     "data": {
      "text/plain": [
       "array([[1, 2, 3],\n",
       "       [4, 5, 6],\n",
       "       [7, 8, 9]])"
      ]
     },
     "execution_count": 91,
     "metadata": {},
     "output_type": "execute_result"
    }
   ],
   "source": [
    "a"
   ]
  },
  {
   "cell_type": "code",
   "execution_count": 92,
   "id": "62191361-0cef-40af-aa05-e9642c2982df",
   "metadata": {},
   "outputs": [
    {
     "data": {
      "text/plain": [
       "(3, 3)"
      ]
     },
     "execution_count": 92,
     "metadata": {},
     "output_type": "execute_result"
    }
   ],
   "source": [
    "a.shape"
   ]
  },
  {
   "cell_type": "code",
   "execution_count": 93,
   "id": "be268441-bf65-4cd5-a70d-5596996d1c68",
   "metadata": {},
   "outputs": [
    {
     "data": {
      "text/plain": [
       "9"
      ]
     },
     "execution_count": 93,
     "metadata": {},
     "output_type": "execute_result"
    }
   ],
   "source": [
    "a.size"
   ]
  },
  {
   "cell_type": "code",
   "execution_count": 94,
   "id": "0dd9b48d-a6ff-4322-9881-5ed63acd6fe9",
   "metadata": {},
   "outputs": [
    {
     "data": {
      "text/plain": [
       "2"
      ]
     },
     "execution_count": 94,
     "metadata": {},
     "output_type": "execute_result"
    }
   ],
   "source": [
    "a.ndim"
   ]
  },
  {
   "cell_type": "code",
   "execution_count": 102,
   "id": "3749a7f9-2362-45e7-b724-a60726f7ff39",
   "metadata": {},
   "outputs": [
    {
     "data": {
      "text/plain": [
       "(array([[[ 1.  ,  2.  ,  3.  ],\n",
       "         [ 3.25,  4.  ,  4.75],\n",
       "         [ 5.5 ,  6.  ,  6.5 ],\n",
       "         [ 7.75,  8.  ,  8.25],\n",
       "         [10.  , 10.  , 10.  ]],\n",
       " \n",
       "        [[ 4.  ,  5.  ,  6.  ],\n",
       "         [ 5.5 ,  6.25,  7.  ],\n",
       "         [ 7.  ,  7.5 ,  8.  ],\n",
       "         [ 8.5 ,  8.75,  9.  ],\n",
       "         [10.  , 10.  , 10.  ]],\n",
       " \n",
       "        [[ 7.  ,  8.  ,  9.  ],\n",
       "         [ 7.75,  8.5 ,  9.25],\n",
       "         [ 8.5 ,  9.  ,  9.5 ],\n",
       "         [ 9.25,  9.5 ,  9.75],\n",
       "         [10.  , 10.  , 10.  ]]]),\n",
       " array([[2.25, 2.  , 1.75],\n",
       "        [1.5 , 1.25, 1.  ],\n",
       "        [0.75, 0.5 , 0.25]]))"
      ]
     },
     "execution_count": 102,
     "metadata": {},
     "output_type": "execute_result"
    }
   ],
   "source": [
    "numpy.linspace(a, a.size +1, 5, endpoint=True, retstep=True, dtype=None, axis=1)"
   ]
  },
  {
   "cell_type": "code",
   "execution_count": 106,
   "id": "9fb59e62-de79-4ad5-9530-fec5917c5012",
   "metadata": {},
   "outputs": [
    {
     "data": {
      "text/plain": [
       "array([0.   , 0.125, 0.25 , 0.375, 0.5  , 0.625, 0.75 , 0.875, 1.   ])"
      ]
     },
     "execution_count": 106,
     "metadata": {},
     "output_type": "execute_result"
    }
   ],
   "source": [
    "np.linspace(0, 1, 9)"
   ]
  },
  {
   "cell_type": "code",
   "execution_count": 116,
   "id": "ae430adb-2791-4722-a4ee-560fb4003d04",
   "metadata": {},
   "outputs": [
    {
     "data": {
      "text/plain": [
       "dtype('int64')"
      ]
     },
     "execution_count": 116,
     "metadata": {},
     "output_type": "execute_result"
    }
   ],
   "source": [
    "a = np.zeros((2,5), dtype=\"int\")\n",
    "a.dtype"
   ]
  },
  {
   "cell_type": "code",
   "execution_count": 117,
   "id": "aef0306c-b198-4b05-92a3-fd17a7f37aa9",
   "metadata": {},
   "outputs": [
    {
     "data": {
      "text/plain": [
       "array([1, 1, 1, 1], dtype=int8)"
      ]
     },
     "execution_count": 117,
     "metadata": {},
     "output_type": "execute_result"
    }
   ],
   "source": [
    "np.ones(4, dtype=\"int8\")"
   ]
  },
  {
   "cell_type": "code",
   "execution_count": 127,
   "id": "f3abbaba-0bdd-4ff9-877d-5d5ab328102c",
   "metadata": {},
   "outputs": [
    {
     "data": {
      "text/plain": [
       "array([[0, 0, 0, 0],\n",
       "       [0, 0, 0, 0]], dtype=int8)"
      ]
     },
     "execution_count": 127,
     "metadata": {},
     "output_type": "execute_result"
    }
   ],
   "source": [
    "np.empty((2,4), dtype='int8')"
   ]
  },
  {
   "cell_type": "code",
   "execution_count": 128,
   "id": "7c0a6c2a-39c0-4f21-ad84-01895b50b9b6",
   "metadata": {},
   "outputs": [
    {
     "data": {
      "text/plain": [
       "array([[1., 0., 0.],\n",
       "       [0., 1., 0.],\n",
       "       [0., 0., 1.]])"
      ]
     },
     "execution_count": 128,
     "metadata": {},
     "output_type": "execute_result"
    }
   ],
   "source": [
    "np.identity(3)"
   ]
  },
  {
   "cell_type": "code",
   "execution_count": 130,
   "id": "2e9d3d30-8c5c-4c2d-a12e-b1738d18c312",
   "metadata": {},
   "outputs": [
    {
     "data": {
      "text/plain": [
       "array([[1., 0., 0.],\n",
       "       [0., 1., 0.],\n",
       "       [0., 0., 1.],\n",
       "       [0., 0., 0.]])"
      ]
     },
     "execution_count": 130,
     "metadata": {},
     "output_type": "execute_result"
    }
   ],
   "source": [
    "np.eye(4,3)"
   ]
  },
  {
   "cell_type": "code",
   "execution_count": 134,
   "id": "0b6062bc-9f4a-4762-bbff-40f28a624703",
   "metadata": {},
   "outputs": [
    {
     "data": {
      "text/plain": [
       "array([[0, 0, 0],\n",
       "       [1, 0, 0],\n",
       "       [0, 1, 0],\n",
       "       [0, 0, 1]])"
      ]
     },
     "execution_count": 134,
     "metadata": {},
     "output_type": "execute_result"
    }
   ],
   "source": [
    "numpy.eye(N=4, M=3, k=-1, dtype=int, order='C')"
   ]
  },
  {
   "cell_type": "code",
   "execution_count": 135,
   "id": "37a76c73-eafc-4af8-b534-06b75ecee508",
   "metadata": {},
   "outputs": [
    {
     "data": {
      "text/plain": [
       "array([[1, 0, 0],\n",
       "       [0, 1, 0],\n",
       "       [0, 0, 1],\n",
       "       [0, 0, 0]])"
      ]
     },
     "execution_count": 135,
     "metadata": {},
     "output_type": "execute_result"
    }
   ],
   "source": [
    "numpy.eye(N=4, M=3, k=0, dtype=int)"
   ]
  },
  {
   "cell_type": "code",
   "execution_count": 136,
   "id": "39f41b53-15c5-4e27-89fe-f473bbe815f9",
   "metadata": {},
   "outputs": [
    {
     "data": {
      "text/plain": [
       "array([[0, 1, 0],\n",
       "       [0, 0, 1],\n",
       "       [0, 0, 0],\n",
       "       [0, 0, 0]])"
      ]
     },
     "execution_count": 136,
     "metadata": {},
     "output_type": "execute_result"
    }
   ],
   "source": [
    "numpy.eye(N=4, M=3, k=1, dtype=int)"
   ]
  },
  {
   "cell_type": "code",
   "execution_count": 138,
   "id": "91e19c32-2619-493d-ac0b-7feb8a949931",
   "metadata": {},
   "outputs": [
    {
     "data": {
      "text/plain": [
       "array([[1, 0, 0, 0],\n",
       "       [0, 1, 0, 0],\n",
       "       [0, 0, 1, 0],\n",
       "       [0, 0, 0, 1]])"
      ]
     },
     "execution_count": 138,
     "metadata": {},
     "output_type": "execute_result"
    }
   ],
   "source": [
    "numpy.eye(N=4, M=None, k=0, dtype=int, order='C')"
   ]
  },
  {
   "cell_type": "code",
   "execution_count": 140,
   "id": "465e1374-245c-4f04-8311-816dc10edb9d",
   "metadata": {},
   "outputs": [
    {
     "data": {
      "text/plain": [
       "'W'"
      ]
     },
     "execution_count": 140,
     "metadata": {},
     "output_type": "execute_result"
    }
   ],
   "source": [
    "'Hello World'[6]"
   ]
  },
  {
   "cell_type": "code",
   "execution_count": null,
   "id": "7dd93eae-0e86-4a8c-8dc3-f7708e7b1165",
   "metadata": {},
   "outputs": [],
   "source": []
  }
 ],
 "metadata": {
  "kernelspec": {
   "display_name": "Python 3 (ipykernel)",
   "language": "python",
   "name": "python3"
  },
  "language_info": {
   "codemirror_mode": {
    "name": "ipython",
    "version": 3
   },
   "file_extension": ".py",
   "mimetype": "text/x-python",
   "name": "python",
   "nbconvert_exporter": "python",
   "pygments_lexer": "ipython3",
   "version": "3.10.1"
  }
 },
 "nbformat": 4,
 "nbformat_minor": 5
}
